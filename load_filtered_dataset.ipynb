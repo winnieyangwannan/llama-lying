{
 "cells": [
  {
   "cell_type": "code",
   "execution_count": 4,
   "id": "bd87d12e-da9b-433f-ac6c-a79ef69a6c6a",
   "metadata": {},
   "outputs": [],
   "source": [
    "from datasets import load_dataset\n",
    "from torch.utils.data import DataLoader\n",
    "\n"
   ]
  },
  {
   "cell_type": "code",
   "execution_count": 2,
   "id": "06913a02-ba85-4681-8a42-f6ccdd43997b",
   "metadata": {},
   "outputs": [
    {
     "data": {
      "application/vnd.jupyter.widget-view+json": {
       "model_id": "4201065d1aaf4387aea93b6c2dc95f2b",
       "version_major": 2,
       "version_minor": 0
      },
      "text/plain": [
       "Downloading readme:   0%|          | 0.00/1.13k [00:00<?, ?B/s]"
      ]
     },
     "metadata": {},
     "output_type": "display_data"
    },
    {
     "data": {
      "application/vnd.jupyter.widget-view+json": {
       "model_id": "65fa0dd0bb0a48649d821778664c9eaf",
       "version_major": 2,
       "version_minor": 0
      },
      "text/plain": [
       "Downloading data:   0%|          | 0.00/105k [00:00<?, ?B/s]"
      ]
     },
     "metadata": {},
     "output_type": "display_data"
    },
    {
     "data": {
      "application/vnd.jupyter.widget-view+json": {
       "model_id": "019d4c5c2eb245c7b1a689c1c68215d1",
       "version_major": 2,
       "version_minor": 0
      },
      "text/plain": [
       "Downloading data:   0%|          | 0.00/26.6k [00:00<?, ?B/s]"
      ]
     },
     "metadata": {},
     "output_type": "display_data"
    },
    {
     "data": {
      "application/vnd.jupyter.widget-view+json": {
       "model_id": "0732aafaf78e46c8ac5ba937969f58e7",
       "version_major": 2,
       "version_minor": 0
      },
      "text/plain": [
       "Downloading data:   0%|          | 0.00/20.5k [00:00<?, ?B/s]"
      ]
     },
     "metadata": {},
     "output_type": "display_data"
    },
    {
     "data": {
      "application/vnd.jupyter.widget-view+json": {
       "model_id": "18c263a40c124fe19bb77f7730f0047d",
       "version_major": 2,
       "version_minor": 0
      },
      "text/plain": [
       "Downloading data:   0%|          | 0.00/17.3k [00:00<?, ?B/s]"
      ]
     },
     "metadata": {},
     "output_type": "display_data"
    },
    {
     "data": {
      "application/vnd.jupyter.widget-view+json": {
       "model_id": "251fd803af2241798593db36726e7b09",
       "version_major": 2,
       "version_minor": 0
      },
      "text/plain": [
       "Downloading data:   0%|          | 0.00/18.7k [00:00<?, ?B/s]"
      ]
     },
     "metadata": {},
     "output_type": "display_data"
    },
    {
     "data": {
      "application/vnd.jupyter.widget-view+json": {
       "model_id": "f78780670ac14658842a04970c1888b7",
       "version_major": 2,
       "version_minor": 0
      },
      "text/plain": [
       "Downloading data:   0%|          | 0.00/20.6k [00:00<?, ?B/s]"
      ]
     },
     "metadata": {},
     "output_type": "display_data"
    },
    {
     "data": {
      "application/vnd.jupyter.widget-view+json": {
       "model_id": "4f5119352fa64071a222b0dd27a42e1d",
       "version_major": 2,
       "version_minor": 0
      },
      "text/plain": [
       "Generating cities split:   0%|          | 0/4416 [00:00<?, ? examples/s]"
      ]
     },
     "metadata": {},
     "output_type": "display_data"
    },
    {
     "data": {
      "application/vnd.jupyter.widget-view+json": {
       "model_id": "c9e6b8a98ab1447ea82391f9a10bd71a",
       "version_major": 2,
       "version_minor": 0
      },
      "text/plain": [
       "Generating companies split:   0%|          | 0/777 [00:00<?, ? examples/s]"
      ]
     },
     "metadata": {},
     "output_type": "display_data"
    },
    {
     "data": {
      "application/vnd.jupyter.widget-view+json": {
       "model_id": "de5f4b434e33419292c82ed6d80d451a",
       "version_major": 2,
       "version_minor": 0
      },
      "text/plain": [
       "Generating animals split:   0%|          | 0/692 [00:00<?, ? examples/s]"
      ]
     },
     "metadata": {},
     "output_type": "display_data"
    },
    {
     "data": {
      "application/vnd.jupyter.widget-view+json": {
       "model_id": "732102bcf27f454d9391f39a330bddce",
       "version_major": 2,
       "version_minor": 0
      },
      "text/plain": [
       "Generating elements split:   0%|          | 0/636 [00:00<?, ? examples/s]"
      ]
     },
     "metadata": {},
     "output_type": "display_data"
    },
    {
     "data": {
      "application/vnd.jupyter.widget-view+json": {
       "model_id": "bbb984b3c2144bf38a83681fb83b5491",
       "version_major": 2,
       "version_minor": 0
      },
      "text/plain": [
       "Generating inventions split:   0%|          | 0/594 [00:00<?, ? examples/s]"
      ]
     },
     "metadata": {},
     "output_type": "display_data"
    },
    {
     "data": {
      "application/vnd.jupyter.widget-view+json": {
       "model_id": "9934f156a44b481c92282cbc2421d931",
       "version_major": 2,
       "version_minor": 0
      },
      "text/plain": [
       "Generating facts split:   0%|          | 0/472 [00:00<?, ? examples/s]"
      ]
     },
     "metadata": {},
     "output_type": "display_data"
    }
   ],
   "source": [
    "dataset = load_dataset(\"notrichardren/azaria-mitchell-diff-filtered-2\")\n"
   ]
  },
  {
   "cell_type": "code",
   "execution_count": 3,
   "id": "b8f20c40-1390-4bcc-9071-21dcdc68c3c0",
   "metadata": {},
   "outputs": [],
   "source": [
    "data_rows = [row for row in dataset[\"facts\"]]\n"
   ]
  },
  {
   "cell_type": "code",
   "execution_count": 9,
   "id": "d38470dd-fc0b-4e40-aaa2-d7eb3eb06054",
   "metadata": {},
   "outputs": [
    {
     "data": {
      "text/plain": [
       "472"
      ]
     },
     "execution_count": 9,
     "metadata": {},
     "output_type": "execute_result"
    }
   ],
   "source": [
    "len(data_rows)"
   ]
  },
  {
   "cell_type": "code",
   "execution_count": null,
   "id": "5481928d-fcec-45ba-8548-9908c5dc3e52",
   "metadata": {},
   "outputs": [],
   "source": [
    "loader = DataLoader(data_rows, batch_size=1, shuffle=False)\n",
    "labels = [row['label'] for row in data_rows]\n",
    "\n"
   ]
  },
  {
   "cell_type": "code",
   "execution_count": 6,
   "id": "f41b60cc-1be7-4de0-a783-e1605cffa775",
   "metadata": {},
   "outputs": [],
   "source": [
    "short_loader = DataLoader(data_rows[:20], batch_size=1, shuffle=False)\n",
    "short_labels = [row['label'] for row in data_rows[:20]]"
   ]
  },
  {
   "cell_type": "code",
   "execution_count": 7,
   "id": "77b34989-e85a-4f9c-ae16-35a1bc0a9f33",
   "metadata": {},
   "outputs": [
    {
     "data": {
      "text/plain": [
       "[0, 0, 1, 1, 1, 1, 0, 0, 0, 0, 1, 1, 1, 0, 1, 1, 1, 1, 1, 1]"
      ]
     },
     "execution_count": 7,
     "metadata": {},
     "output_type": "execute_result"
    }
   ],
   "source": [
    "short_labels"
   ]
  },
  {
   "cell_type": "code",
   "execution_count": 8,
   "id": "c517b557-0d9d-4d00-8b68-d8edcab392ef",
   "metadata": {},
   "outputs": [
    {
     "data": {
      "text/plain": [
       "[{'claim': 'The coldest temperature on Earth is 100 degrees Celsius.',\n",
       "  'label': 0,\n",
       "  'dataset': 'facts',\n",
       "  'qa_type': 0,\n",
       "  'ind': 7295},\n",
       " {'claim': 'Polar ice caps are primarily made of saltwater.',\n",
       "  'label': 0,\n",
       "  'dataset': 'facts',\n",
       "  'qa_type': 0,\n",
       "  'ind': 5219},\n",
       " {'claim': 'Plants use photosynthesis to create energy from sunlight.',\n",
       "  'label': 1,\n",
       "  'dataset': 'facts',\n",
       "  'qa_type': 0,\n",
       "  'ind': 3860},\n",
       " {'claim': 'Radioactive decay occurs when unstable atomic nuclei release energy in the form of radiation.',\n",
       "  'label': 1,\n",
       "  'dataset': 'facts',\n",
       "  'qa_type': 0,\n",
       "  'ind': 5550},\n",
       " {'claim': 'The Doppler effect causes the change in frequency or wavelength of a wave in relation to an observer.',\n",
       "  'label': 1,\n",
       "  'dataset': 'facts',\n",
       "  'qa_type': 0,\n",
       "  'ind': 12391},\n",
       " {'claim': 'The process by which plants release oxygen and absorb carbon dioxide is called respiration.',\n",
       "  'label': 1,\n",
       "  'dataset': 'facts',\n",
       "  'qa_type': 0,\n",
       "  'ind': 9069},\n",
       " {'claim': 'All animals are cold-blooded.',\n",
       "  'label': 0,\n",
       "  'dataset': 'facts',\n",
       "  'qa_type': 0,\n",
       "  'ind': 2117},\n",
       " {'claim': 'The smallest tree in the world is the redwood.',\n",
       "  'label': 0,\n",
       "  'dataset': 'facts',\n",
       "  'qa_type': 0,\n",
       "  'ind': 4954},\n",
       " {'claim': 'Penguins can fly.',\n",
       "  'label': 0,\n",
       "  'dataset': 'facts',\n",
       "  'qa_type': 0,\n",
       "  'ind': 734},\n",
       " {'claim': 'Photosynthesis is the process by which plants convert darkness into chemical energy.',\n",
       "  'label': 0,\n",
       "  'dataset': 'facts',\n",
       "  'qa_type': 0,\n",
       "  'ind': 6662},\n",
       " {'claim': 'The planet Neptune is named after the Roman god of the sea.',\n",
       "  'label': 1,\n",
       "  'dataset': 'facts',\n",
       "  'qa_type': 0,\n",
       "  'ind': 12305},\n",
       " {'claim': 'The human skeleton provides support and protection for the body.',\n",
       "  'label': 1,\n",
       "  'dataset': 'facts',\n",
       "  'qa_type': 0,\n",
       "  'ind': 12778},\n",
       " {'claim': 'Volcanic eruptions can create new land.',\n",
       "  'label': 1,\n",
       "  'dataset': 'facts',\n",
       "  'qa_type': 0,\n",
       "  'ind': 3186},\n",
       " {'claim': 'The human heart is located in the foot.',\n",
       "  'label': 0,\n",
       "  'dataset': 'facts',\n",
       "  'qa_type': 0,\n",
       "  'ind': 10326},\n",
       " {'claim': 'Evolution occurs through the process of natural selection.',\n",
       "  'label': 1,\n",
       "  'dataset': 'facts',\n",
       "  'qa_type': 0,\n",
       "  'ind': 1487},\n",
       " {'claim': 'Hibernation conserves energy during cold periods.',\n",
       "  'label': 1,\n",
       "  'dataset': 'facts',\n",
       "  'qa_type': 0,\n",
       "  'ind': 7460},\n",
       " {'claim': 'The tallest mammal in the world is the giraffe.',\n",
       "  'label': 1,\n",
       "  'dataset': 'facts',\n",
       "  'qa_type': 0,\n",
       "  'ind': 9017},\n",
       " {'claim': 'Venus is similar in size to Earth.',\n",
       "  'label': 1,\n",
       "  'dataset': 'facts',\n",
       "  'qa_type': 0,\n",
       "  'ind': 15965},\n",
       " {'claim': 'The Amazon rainforest is home to immense biodiversity.',\n",
       "  'label': 1,\n",
       "  'dataset': 'facts',\n",
       "  'qa_type': 0,\n",
       "  'ind': 11388},\n",
       " {'claim': 'The Amazon River is the largest river in the world by volume.',\n",
       "  'label': 1,\n",
       "  'dataset': 'facts',\n",
       "  'qa_type': 0,\n",
       "  'ind': 4159}]"
      ]
     },
     "execution_count": 8,
     "metadata": {},
     "output_type": "execute_result"
    }
   ],
   "source": [
    "data_rows[:20]"
   ]
  },
  {
   "cell_type": "code",
   "execution_count": null,
   "id": "20ac0d41-0529-4001-b331-28c553fb5edf",
   "metadata": {},
   "outputs": [],
   "source": []
  }
 ],
 "metadata": {
  "kernelspec": {
   "display_name": "Python 3 (ipykernel)",
   "language": "python",
   "name": "python3"
  },
  "language_info": {
   "codemirror_mode": {
    "name": "ipython",
    "version": 3
   },
   "file_extension": ".py",
   "mimetype": "text/x-python",
   "name": "python",
   "nbconvert_exporter": "python",
   "pygments_lexer": "ipython3",
   "version": "3.12.3"
  }
 },
 "nbformat": 4,
 "nbformat_minor": 5
}
